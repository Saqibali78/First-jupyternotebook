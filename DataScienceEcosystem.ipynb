{
 "cells": [
  {
   "cell_type": "markdown",
   "id": "801deef2-0ca6-4477-903a-05799e2e532d",
   "metadata": {},
   "source": [
    "<h1>Data Science Tools and Ecosystem</h1>"
   ]
  },
  {
   "cell_type": "markdown",
   "id": "5e7d4802-5979-436f-8187-0d2b9854e8da",
   "metadata": {},
   "source": [
    "In this notebook, Data Science Tools and Ecosystem are summarized."
   ]
  },
  {
   "cell_type": "markdown",
   "id": "0b8354c0-eadf-4c7f-a322-d41f3fed7b01",
   "metadata": {},
   "source": [
    "Some of the popular languages that Data Scientists use are:"
   ]
  },
  {
   "cell_type": "markdown",
   "id": "215c9552-36a2-441a-982d-9bdd8d2e0908",
   "metadata": {},
   "source": [
    "1 Python"
   ]
  },
  {
   "cell_type": "markdown",
   "id": "67fdd8d8-54e8-4367-893c-e02ee9bf953b",
   "metadata": {},
   "source": [
    "2 R"
   ]
  },
  {
   "cell_type": "markdown",
   "id": "b7fdabc7-1f93-4502-a928-f66ccce5813f",
   "metadata": {},
   "source": [
    "3 SQL"
   ]
  },
  {
   "cell_type": "markdown",
   "id": "9b6554b0-6b12-40cf-91b0-6c8fa2c4cf7a",
   "metadata": {},
   "source": [
    "Some of the commonly used libraries used by Data Scientists include:"
   ]
  },
  {
   "cell_type": "markdown",
   "id": "cb00b71e-1fe0-4c6b-b2b5-2416a1fcd713",
   "metadata": {},
   "source": [
    "1 Matplotlib"
   ]
  },
  {
   "cell_type": "markdown",
   "id": "7dfac1e3-d429-4314-9280-470c874a8449",
   "metadata": {},
   "source": [
    "2 Pandas"
   ]
  },
  {
   "cell_type": "markdown",
   "id": "1ca960f1-a4b3-4a40-8a81-2a0663ebe210",
   "metadata": {},
   "source": [
    "3 NumPy"
   ]
  },
  {
   "cell_type": "markdown",
   "id": "c945669d-676f-4cb1-8507-d3a47e2dad57",
   "metadata": {},
   "source": [
    "Data Science Tools:-"
   ]
  },
  {
   "cell_type": "markdown",
   "id": "cb053c6a-438e-4b5c-a4b0-b419253c944d",
   "metadata": {},
   "source": [
    "1 JupyterNotebook"
   ]
  },
  {
   "cell_type": "markdown",
   "id": "9feeec85-c462-4a4f-8f1c-15c9817fdeeb",
   "metadata": {},
   "source": [
    "2 Python"
   ]
  },
  {
   "cell_type": "markdown",
   "id": "97395e3c-4c8a-4b2b-899f-8f54d54d0022",
   "metadata": {},
   "source": [
    "3 Apache Spark"
   ]
  },
  {
   "cell_type": "markdown",
   "id": "a7a43923-579a-4cd2-bfcd-bad077becfa1",
   "metadata": {},
   "source": [
    "<h3>Below are a few examples of evaluating arithmetic expressions in Python</h3>"
   ]
  },
  {
   "cell_type": "markdown",
   "id": "fb4bef15-1799-4c11-acad-900d1667a486",
   "metadata": {},
   "source": [
    "1 Addition"
   ]
  },
  {
   "cell_type": "markdown",
   "id": "9bdac5bf-01eb-4cd7-8887-8cde9a281653",
   "metadata": {},
   "source": [
    "2 Substraction"
   ]
  },
  {
   "cell_type": "markdown",
   "id": "f219f6c8-0e54-4180-8236-2786dd14c425",
   "metadata": {},
   "source": [
    "3 Multiplication "
   ]
  },
  {
   "cell_type": "markdown",
   "id": "3c1aaa44-6f6d-42a3-b319-515b22111fcf",
   "metadata": {},
   "source": [
    "4 Division"
   ]
  },
  {
   "cell_type": "markdown",
   "id": "99a987ab-4c3c-4538-9062-b2d505595565",
   "metadata": {},
   "source": [
    "5 Floor division"
   ]
  },
  {
   "cell_type": "markdown",
   "id": "608c6bcf-6a32-47bb-89ae-337c88db752a",
   "metadata": {},
   "source": [
    "6 Exponensiation"
   ]
  },
  {
   "cell_type": "markdown",
   "id": "fc098998-c872-4e0c-b088-02f0a67fbf61",
   "metadata": {},
   "source": [
    "7 Modulus"
   ]
  },
  {
   "cell_type": "code",
   "execution_count": 1,
   "id": "8e5b7026-9cd3-4b92-bd9e-3d67d540b015",
   "metadata": {},
   "outputs": [],
   "source": [
    "#  This a simple arithmetic expression to mutiply then add integers"
   ]
  },
  {
   "cell_type": "code",
   "execution_count": 2,
   "id": "135d4420-2060-4584-b4cc-0f3e5d12c639",
   "metadata": {},
   "outputs": [
    {
     "data": {
      "text/plain": [
       "47"
      ]
     },
     "execution_count": 2,
     "metadata": {},
     "output_type": "execute_result"
    }
   ],
   "source": [
    "(8*5)+7"
   ]
  },
  {
   "cell_type": "code",
   "execution_count": 3,
   "id": "24c5676f-9b28-4bb6-af93-62524831b21d",
   "metadata": {},
   "outputs": [],
   "source": [
    "# This will convert 200 minutes to hours by diving by 60"
   ]
  },
  {
   "cell_type": "code",
   "execution_count": 6,
   "id": "bfd8f71a-b15e-4a6e-9b5d-a3c697c780db",
   "metadata": {},
   "outputs": [
    {
     "name": "stdout",
     "output_type": "stream",
     "text": [
      "200 minutes is equal to 3.3333333333333335 hours.\n"
     ]
    }
   ],
   "source": [
    "def minutes_to_hours(minutes):\n",
    "    hours = minutes / 60\n",
    "    return hours\n",
    "\n",
    "# Example usage\n",
    "minutes = 200\n",
    "hours = minutes_to_hours(minutes)\n",
    "print(f\"{minutes} minutes is equal to {hours} hours.\")\n"
   ]
  },
  {
   "cell_type": "markdown",
   "id": "20e87a3e-6018-4a7e-a332-31ffb20ba85a",
   "metadata": {},
   "source": [
    "**Objectives:**"
   ]
  },
  {
   "cell_type": "markdown",
   "id": "046fb4f3-df4e-4695-a8ad-838265d46c42",
   "metadata": {},
   "source": [
    "popular languages for Data Science:-"
   ]
  },
  {
   "cell_type": "markdown",
   "id": "d9965021-3528-48c0-9611-913be725067c",
   "metadata": {},
   "source": [
    "1. Python"
   ]
  },
  {
   "cell_type": "markdown",
   "id": "a9d015eb-dbf0-4c10-a582-dc172d2d37f2",
   "metadata": {},
   "source": [
    "2. R"
   ]
  },
  {
   "cell_type": "markdown",
   "id": "25ff90c1-da75-4c63-a24c-0abf025130fa",
   "metadata": {},
   "source": [
    "3. SQL"
   ]
  },
  {
   "cell_type": "markdown",
   "id": "93d7d290-1b93-49cf-9620-569046e20812",
   "metadata": {},
   "source": [
    "4. Julia"
   ]
  },
  {
   "cell_type": "markdown",
   "id": "6128de05-2547-4167-9275-c8fd12a26438",
   "metadata": {},
   "source": [
    "5. Scala"
   ]
  },
  {
   "cell_type": "markdown",
   "id": "53dd59b8-42f2-4f2a-bfad-65f0dca11547",
   "metadata": {},
   "source": [
    "<h2>Author</h2>"
   ]
  },
  {
   "cell_type": "markdown",
   "id": "bbb30e24-6d00-4dd9-acf7-e33a633fdf16",
   "metadata": {},
   "source": [
    "Saqib Ali"
   ]
  },
  {
   "cell_type": "code",
   "execution_count": null,
   "id": "eea70971-7d69-4179-b6df-6f3910a6b7f8",
   "metadata": {},
   "outputs": [],
   "source": []
  }
 ],
 "metadata": {
  "kernelspec": {
   "display_name": "Python 3 (ipykernel)",
   "language": "python",
   "name": "python3"
  },
  "language_info": {
   "codemirror_mode": {
    "name": "ipython",
    "version": 3
   },
   "file_extension": ".py",
   "mimetype": "text/x-python",
   "name": "python",
   "nbconvert_exporter": "python",
   "pygments_lexer": "ipython3",
   "version": "3.11.7"
  }
 },
 "nbformat": 4,
 "nbformat_minor": 5
}
